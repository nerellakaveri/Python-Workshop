{
 "cells": [
  {
   "cell_type": "markdown",
   "metadata": {},
   "source": [
    "\n"
   ]
  },
  {
   "cell_type": "code",
   "execution_count": 2,
   "metadata": {},
   "outputs": [
    {
     "name": "stdout",
     "output_type": "stream",
     "text": [
      "Enter a value: 5\n",
      "Enter b value: 7\n",
      " The Addition of 5 and 7 is 12\n"
     ]
    }
   ],
   "source": [
    "a = int(input(\"Enter a value: \"))\n",
    "b = int(input(\"Enter b value: \"))\n",
    "print(\" The Addition of {} and {} is\".format(a,b),a+b)"
   ]
  },
  {
   "cell_type": "code",
   "execution_count": 6,
   "metadata": {},
   "outputs": [
    {
     "name": "stdout",
     "output_type": "stream",
     "text": [
      "Enter a value: 9\n",
      "Enter b value: 7\n",
      "Subtraction of 9 - 7 = 2\n"
     ]
    }
   ],
   "source": [
    "a = int(input(\"Enter a value: \"))\n",
    "b = int(input(\"Enter b value: \"))\n",
    "print(\"Subtraction of\",a,\"-\",b, \"=\",a-b)"
   ]
  },
  {
   "cell_type": "code",
   "execution_count": 5,
   "metadata": {},
   "outputs": [
    {
     "name": "stdout",
     "output_type": "stream",
     "text": [
      "Enter a value: 3\n",
      "Enter b value: 6\n",
      "Multiplication of 3 * 6 = 18\n"
     ]
    }
   ],
   "source": [
    "a = int(input(\"Enter a value: \"))\n",
    "b = int(input(\"Enter b value: \"))\n",
    "print('Multiplication of',a,'*',b,'=',a*b)"
   ]
  },
  {
   "cell_type": "code",
   "execution_count": 8,
   "metadata": {},
   "outputs": [
    {
     "name": "stdout",
     "output_type": "stream",
     "text": [
      "Enter a value: 5\n",
      "Enter b value: 6\n",
      "Addition of 5 + 6 =11\n",
      "Subtraction of 5 - 6 = -1\n",
      "Multiplication of 5 * 6=30\n"
     ]
    }
   ],
   "source": [
    "a = int(input(\"Enter a value: \"))\n",
    "b = int(input(\"Enter b value: \"))\n",
    "print(\"Addition of %d + %d =%d\"%(a,b,a+b))\n",
    "print(\"Subtraction of\",a,\"-\",b,\"=\",a-b)\n",
    "print(\"Multiplication of {} * {}={}\".format(a,b,a*b))"
   ]
  },
  {
   "cell_type": "code",
   "execution_count": 10,
   "metadata": {},
   "outputs": [
    {
     "name": "stdout",
     "output_type": "stream",
     "text": [
      "greaterthan--> True\n",
      "lessthan--> False\n",
      "greater than or equalsto True\n",
      "less than or equalsto False\n",
      "not equalsto True\n",
      "equalsto True\n"
     ]
    }
   ],
   "source": [
    "print(\"greaterthan-->\",8>4)\n",
    "print(\"lessthan-->\",8<4)\n",
    "print(\"greater than or equalsto\",100>=99)\n",
    "print(\"less than or equalsto\",100<=99)\n",
    "print(\"not equalsto\",100!=99)\n",
    "print(\"equalsto\",100==100)"
   ]
  },
  {
   "cell_type": "code",
   "execution_count": 12,
   "metadata": {},
   "outputs": [],
   "source": [
    "a=5\n",
    "a+=9\n",
    "a-=75"
   ]
  },
  {
   "cell_type": "code",
   "execution_count": 13,
   "metadata": {},
   "outputs": [
    {
     "data": {
      "text/plain": [
       "-61"
      ]
     },
     "execution_count": 13,
     "metadata": {},
     "output_type": "execute_result"
    }
   ],
   "source": [
    "a"
   ]
  },
  {
   "cell_type": "code",
   "execution_count": 16,
   "metadata": {},
   "outputs": [
    {
     "name": "stdout",
     "output_type": "stream",
     "text": [
      "Final result is 47\n"
     ]
    }
   ],
   "source": [
    "a=13\n",
    "a+=90\n",
    "a-=56\n",
    "print(\"Final result is\",a)"
   ]
  },
  {
   "cell_type": "code",
   "execution_count": 15,
   "metadata": {},
   "outputs": [
    {
     "data": {
      "text/plain": [
       "47"
      ]
     },
     "execution_count": 15,
     "metadata": {},
     "output_type": "execute_result"
    }
   ],
   "source": [
    "a"
   ]
  },
  {
   "cell_type": "markdown",
   "metadata": {},
   "source": [
    "# Logical operator\n",
    ".and,or,not\n"
   ]
  },
  {
   "cell_type": "code",
   "execution_count": 41,
   "metadata": {},
   "outputs": [
    {
     "name": "stdout",
     "output_type": "stream",
     "text": [
      "False\n",
      "False\n",
      "False\n",
      "True\n"
     ]
    }
   ],
   "source": [
    "print(False and False)\n",
    "print(False and True)\n",
    "print(True and False)\n",
    "print(True and True)"
   ]
  },
  {
   "cell_type": "code",
   "execution_count": 23,
   "metadata": {},
   "outputs": [
    {
     "name": "stdout",
     "output_type": "stream",
     "text": [
      "True\n",
      "True\n",
      "True\n",
      "False\n"
     ]
    }
   ],
   "source": [
    "print(not(False and False ))\n",
    "print(not(False and True))\n",
    "print(not(True and False))\n",
    "print(not(True and True))"
   ]
  },
  {
   "cell_type": "code",
   "execution_count": 24,
   "metadata": {},
   "outputs": [
    {
     "name": "stdout",
     "output_type": "stream",
     "text": [
      "True\n",
      "False\n",
      "False\n",
      "False\n"
     ]
    }
   ],
   "source": [
    "print(not(False or False))\n",
    "print(not(False or True))\n",
    "print(not(True or False))\n",
    "print(not(True or True))"
   ]
  },
  {
   "cell_type": "code",
   "execution_count": 29,
   "metadata": {},
   "outputs": [
    {
     "name": "stdout",
     "output_type": "stream",
     "text": [
      "True\n",
      "False\n",
      "False\n"
     ]
    }
   ],
   "source": [
    "k=\"Welcome to python workshop\"\n",
    "print(\"to\" in k)\n",
    "print(\"too\" in k)\n",
    "print(\"s\" not in k)"
   ]
  },
  {
   "cell_type": "code",
   "execution_count": 30,
   "metadata": {},
   "outputs": [
    {
     "name": "stdout",
     "output_type": "stream",
     "text": [
      "False\n",
      "True\n"
     ]
    }
   ],
   "source": [
    "x=\"hello\"\n",
    "y=\"hell\"\n",
    "print(x is y)\n",
    "print(x is not y)"
   ]
  },
  {
   "cell_type": "code",
   "execution_count": 31,
   "metadata": {},
   "outputs": [
    {
     "data": {
      "text/plain": [
       "5"
      ]
     },
     "execution_count": 31,
     "metadata": {},
     "output_type": "execute_result"
    }
   ],
   "source": [
    "5&5"
   ]
  },
  {
   "cell_type": "code",
   "execution_count": 32,
   "metadata": {},
   "outputs": [
    {
     "data": {
      "text/plain": [
       "5"
      ]
     },
     "execution_count": 32,
     "metadata": {},
     "output_type": "execute_result"
    }
   ],
   "source": [
    "5&7"
   ]
  },
  {
   "cell_type": "code",
   "execution_count": 33,
   "metadata": {},
   "outputs": [
    {
     "data": {
      "text/plain": [
       "5"
      ]
     },
     "execution_count": 33,
     "metadata": {},
     "output_type": "execute_result"
    }
   ],
   "source": [
    "5|5"
   ]
  },
  {
   "cell_type": "code",
   "execution_count": 38,
   "metadata": {},
   "outputs": [
    {
     "data": {
      "text/plain": [
       "'0b10'"
      ]
     },
     "execution_count": 38,
     "metadata": {},
     "output_type": "execute_result"
    }
   ],
   "source": [
    "5|9\n",
    "bin(2)"
   ]
  },
  {
   "cell_type": "code",
   "execution_count": 43,
   "metadata": {},
   "outputs": [
    {
     "data": {
      "text/plain": [
       "'0b11'"
      ]
     },
     "execution_count": 43,
     "metadata": {},
     "output_type": "execute_result"
    }
   ],
   "source": [
    "6^6\n",
    "bin(3)"
   ]
  },
  {
   "cell_type": "code",
   "execution_count": 37,
   "metadata": {},
   "outputs": [
    {
     "data": {
      "text/plain": [
       "14"
      ]
     },
     "execution_count": 37,
     "metadata": {},
     "output_type": "execute_result"
    }
   ],
   "source": [
    "6^8"
   ]
  },
  {
   "cell_type": "code",
   "execution_count": 44,
   "metadata": {},
   "outputs": [
    {
     "data": {
      "text/plain": [
       "100"
      ]
     },
     "execution_count": 44,
     "metadata": {},
     "output_type": "execute_result"
    }
   ],
   "source": [
    "5&6\n",
    "5|9\n",
    "int(\"1111\",5)\n",
    "bin(5)\n",
    "int(\"100\")"
   ]
  },
  {
   "cell_type": "code",
   "execution_count": 50,
   "metadata": {},
   "outputs": [
    {
     "data": {
      "text/plain": [
       "6"
      ]
     },
     "execution_count": 50,
     "metadata": {},
     "output_type": "execute_result"
    }
   ],
   "source": [
    "5&6\n",
    "5|2\n",
    "bin(6)\n",
    "int(\"0110\",2)"
   ]
  },
  {
   "cell_type": "code",
   "execution_count": 52,
   "metadata": {},
   "outputs": [
    {
     "data": {
      "text/plain": [
       "100"
      ]
     },
     "execution_count": 52,
     "metadata": {},
     "output_type": "execute_result"
    }
   ],
   "source": [
    "5&4\n",
    "5|9\n",
    "bin(5)\n",
    "int(\"100\")"
   ]
  },
  {
   "cell_type": "code",
   "execution_count": 56,
   "metadata": {},
   "outputs": [
    {
     "data": {
      "text/plain": [
       "4"
      ]
     },
     "execution_count": 56,
     "metadata": {},
     "output_type": "execute_result"
    }
   ],
   "source": [
    "5&4"
   ]
  },
  {
   "cell_type": "code",
   "execution_count": 58,
   "metadata": {},
   "outputs": [
    {
     "name": "stdout",
     "output_type": "stream",
     "text": [
      "Enter a value: 3\n",
      "Enter b value: 6\n",
      "Enter c value: 9\n",
      "Enter d value: 5\n",
      "Enter e value: 4\n",
      "Final Result 55.75\n"
     ]
    }
   ],
   "source": [
    "a = int(input(\"Enter a value: \"))\n",
    "b = int(input(\"Enter b value: \"))\n",
    "c = int(input(\"Enter c value: \"))\n",
    "d = int(input(\"Enter d value: \"))\n",
    "e = int(input(\"Enter e value: \"))\n",
    "Result = a+b*c-d/e\n",
    "print(\"Final Result\",Result)"
   ]
  },
  {
   "cell_type": "markdown",
   "metadata": {},
   "source": [
    "# conditional statements\n",
    "+if,elif,else\n",
    "### condition syntax\n",
    "if condition:\n",
    "     statements\n",
    "elif condition:\n",
    "     statements\n",
    "else\n",
    "    statements"
   ]
  },
  {
   "cell_type": "code",
   "execution_count": 64,
   "metadata": {},
   "outputs": [
    {
     "name": "stdout",
     "output_type": "stream",
     "text": [
      "Enter a value: 6\n",
      "6 n is not an odd number\n"
     ]
    }
   ],
   "source": [
    "# odd numbers\n",
    "k = int(input(\"Enter a value: \"))\n",
    "if k%2==1:\n",
    "     print(k,\"is an odd number\")\n",
    "else:\n",
    "    print(k,\"n is not an odd number\")\n",
    "\n"
   ]
  },
  {
   "cell_type": "markdown",
   "metadata": {},
   "source": [
    "# take input from the user\n"
   ]
  },
  {
   "cell_type": "code",
   "execution_count": 70,
   "metadata": {},
   "outputs": [
    {
     "name": "stdout",
     "output_type": "stream",
     "text": [
      "Enter a value: 2\n",
      "Monday\n"
     ]
    }
   ],
   "source": [
    "n = int(input(\"Enter a value: \"))\n",
    "if n==1:\n",
    "     print(\"Sunday\")\n",
    "elif n==2:\n",
    "     print(\"Monday\")\n",
    "elif n==3:\n",
    "     print(\"Tuesday\")\n",
    "elif n==4:\n",
    "     print(\"wednesday\")\n",
    "elif n==5:\n",
    "     print(\"thursday\")\n",
    "elif n==6:\n",
    "     print(\"friday\")\n",
    "elif n==7:\n",
    "     print(\"saturday\")\n",
    "else:\n",
    "    print(\"invalid number\")"
   ]
  },
  {
   "cell_type": "code",
   "execution_count": 3,
   "metadata": {},
   "outputs": [
    {
     "data": {
      "text/plain": [
       "5"
      ]
     },
     "execution_count": 3,
     "metadata": {},
     "output_type": "execute_result"
    }
   ],
   "source": [
    "5&5"
   ]
  },
  {
   "cell_type": "markdown",
   "metadata": {},
   "source": []
  },
  {
   "cell_type": "code",
   "execution_count": 1,
   "metadata": {},
   "outputs": [
    {
     "name": "stdout",
     "output_type": "stream",
     "text": [
      "Enter time: 7\n",
      "Good morning\n"
     ]
    }
   ],
   "source": [
    "time = float(input(\"Enter time: \"))\n",
    "if time>=0 and time<=12:\n",
    "    print(\"Good morning\")\n",
    "elif time>=13 and time<=16:\n",
    "    print(\"Good afternoon\")\n",
    "elif time>=17 and time<=21:\n",
    "    print(\"Good evening\")\n",
    "elif time>=22 and time<=24:\n",
    "    print(\"Good night\")\n",
    "else:\n",
    "        print(\"invalid time\")"
   ]
  },
  {
   "cell_type": "code",
   "execution_count": 7,
   "metadata": {},
   "outputs": [
    {
     "data": {
      "text/plain": [
       "10"
      ]
     },
     "execution_count": 7,
     "metadata": {},
     "output_type": "execute_result"
    }
   ],
   "source": [
    "a=10\n",
    "a"
   ]
  },
  {
   "cell_type": "code",
   "execution_count": 10,
   "metadata": {},
   "outputs": [
    {
     "name": "stdout",
     "output_type": "stream",
     "text": [
      "Enter value here:-a\n",
      "a is a Alphabet\n"
     ]
    }
   ],
   "source": [
    "n = str(input('Enter value here:-'))\n",
    "if (n>='a' and n<='z') or (n>='A' and n<='Z'):\n",
    "    print(n,\"is a Alphabet\")\n",
    "elif n>='0' and n<='9':\n",
    "    print(n,\"is a digit\")\n",
    "else:\n",
    "    print(n,\"is a special symbol\")\n",
    "    \n"
   ]
  },
  {
   "cell_type": "code",
   "execution_count": null,
   "metadata": {},
   "outputs": [
    {
     "name": "stdout",
     "output_type": "stream",
     "text": [
      "\n",
      "Welcome to Python 3.6's help utility!\n",
      "\n",
      "If this is your first time using Python, you should definitely check out\n",
      "the tutorial on the Internet at https://docs.python.org/3.6/tutorial/.\n",
      "\n",
      "Enter the name of any module, keyword, or topic to get help on writing\n",
      "Python programs and using Python modules.  To quit this help utility and\n",
      "return to the interpreter, just type \"quit\".\n",
      "\n",
      "To get a list of available modules, keywords, symbols, or topics, type\n",
      "\"modules\", \"keywords\", \"symbols\", or \"topics\".  Each module also comes\n",
      "with a one-line summary of what it does; to list the modules whose name\n",
      "or summary contain a given string such as \"spam\", type \"modules spam\".\n",
      "\n",
      "help> modules\n",
      "\n",
      "Please wait a moment while I gather a list of all available modules...\n",
      "\n"
     ]
    },
    {
     "name": "stderr",
     "output_type": "stream",
     "text": [
      "c:\\users\\admin\\appdata\\local\\programs\\python\\python36-32\\lib\\site-packages\\IPython\\kernel\\__init__.py:13: ShimWarning: The `IPython.kernel` package has been deprecated since IPython 4.0.You should import from ipykernel or jupyter_client instead.\n",
      "  \"You should import from ipykernel or jupyter_client instead.\", ShimWarning)\n",
      "c:\\users\\admin\\appdata\\local\\programs\\python\\python36-32\\lib\\pkgutil.py:107: VisibleDeprecationWarning: zmq.eventloop.minitornado is deprecated in pyzmq 14.0 and will be removed.\n",
      "    Install tornado itself to use zmq with the tornado IOLoop.\n",
      "    \n",
      "  yield from walk_packages(path, info.name+'.', onerror)\n"
     ]
    },
    {
     "name": "stdout",
     "output_type": "stream",
     "text": [
      "IPython             calendar            modulefinder        symtable\n",
      "__future__          cffi                msilib              sys\n",
      "_ast                cgi                 msvcrt              sysconfig\n",
      "_asyncio            cgitb               multiprocessing     tabnanny\n",
      "_bisect             chunk               nbclient            tarfile\n",
      "_blake2             cmath               nbconvert           telnetlib\n",
      "_bootlocale         cmd                 nbformat            tempfile\n",
      "_bz2                code                nest_asyncio        terminado\n",
      "_cffi_backend       codecs              netbios             test\n",
      "_codecs             codeop              netrc               testpath\n",
      "_codecs_cn          collections         nntplib             tests\n",
      "_codecs_hk          colorama            notebook            textwrap\n",
      "_codecs_iso2022     colorsys            nt                  this\n",
      "_codecs_jp          commctrl            ntpath              threading\n",
      "_codecs_kr          compileall          ntsecuritycon       time\n",
      "_codecs_tw          concurrent          nturl2path          timeit\n",
      "_collections        configparser        numbers             timer\n",
      "_collections_abc    contextlib          odbc                tkinter\n",
      "_compat_pickle      copy                opcode              token\n",
      "_compression        copyreg             operator            tokenize\n",
      "_csv                crypt               optparse            tornado\n",
      "_ctypes             csv                 os                  trace\n",
      "_ctypes_test        ctypes              packaging           traceback\n",
      "_datetime           curses              pandocfilters       tracemalloc\n",
      "_decimal            cythonmagic         parser              traitlets\n",
      "_distutils_findvs   datetime            parso               tty\n",
      "_dummy_thread       dateutil            pathlib             turtle\n",
      "_elementtree        dbi                 pdb                 turtledemo\n",
      "_functools          dbm                 perfmon             types\n",
      "_hashlib            dde                 pickle              typing\n",
      "_heapq              decimal             pickleshare         typing_extensions\n",
      "_imp                decorator           pickletools         unicodedata\n",
      "_io                 defusedxml          pip                 unittest\n",
      "_json               difflib             pipes               urllib\n",
      "_locale             dis                 pkg_resources       uu\n",
      "_lsprof             distutils           pkgutil             uuid\n",
      "_lzma               doctest             platform            venv\n",
      "_markupbase         dummy_threading     plistlib            warnings\n",
      "_md5                easy_install        poplib              wave\n",
      "_msi                email               posixpath           wcwidth\n",
      "_multibytecodec     encodings           pprint              weakref\n",
      "_multiprocessing    ensurepip           profile             webbrowser\n",
      "_opcode             entrypoints         prometheus_client   webencodings\n",
      "_operator           enum                prompt_toolkit      widgetsnbextension\n",
      "_osx_support        errno               pstats              win2kras\n",
      "_overlapped         faulthandler        pty                 win32api\n",
      "_pickle             filecmp             py_compile          win32clipboard\n",
      "_pydecimal          fileinput           pyclbr              win32com\n",
      "_pyio               fnmatch             pycparser           win32con\n",
      "_pyrsistent_version formatter           pydoc               win32console\n",
      "_random             fractions           pydoc_data          win32cred\n",
      "_sha1               ftplib              pyexpat             win32crypt\n",
      "_sha256             functools           pygments            win32cryptcon\n",
      "_sha3               gc                  pyparsing           win32event\n",
      "_sha512             genericpath         pyrsistent          win32evtlog\n",
      "_signal             getopt              pythoncom           win32evtlogutil\n",
      "_sitebuiltins       getpass             pywin               win32file\n",
      "_socket             gettext             pywin32_bootstrap   win32gui\n",
      "_sqlite3            glob                pywin32_testutil    win32gui_struct\n",
      "_sre                gzip                pywintypes          win32help\n",
      "_ssl                hashlib             qtconsole           win32inet\n",
      "_stat               heapq               qtpy                win32inetcon\n",
      "_string             hmac                queue               win32job\n",
      "_strptime           html                quopri              win32lz\n",
      "_struct             http                random              win32net\n",
      "_symtable           idlelib             rasutil             win32netcon\n",
      "_testbuffer         imaplib             re                  win32pdh\n",
      "_testcapi           imghdr              regcheck            win32pdhquery\n",
      "_testconsole        imp                 regutil             win32pdhutil\n",
      "_testimportmultiple importlib           reprlib             win32pipe\n",
      "_testmultiphase     importlib_metadata  rlcompleter         win32print\n",
      "_thread             inspect             rmagic              win32process\n",
      "_threading_local    io                  runpy               win32profile\n",
      "_tkinter            ipaddress           sched               win32ras\n",
      "_tracemalloc        ipykernel           secrets             win32rcparser\n",
      "_warnings           ipykernel_launcher  select              win32security\n",
      "_weakref            ipython_genutils    selectors           win32service\n",
      "_weakrefset         ipywidgets          send2trash          win32serviceutil\n",
      "_win32sysloader     isapi               servicemanager      win32timezone\n",
      "_winapi             itertools           setuptools          win32trace\n",
      "_winxptheme         jedi                shelve              win32traceutil\n",
      "abc                 jinja2              shlex               win32transaction\n",
      "adodbapi            json                shutil              win32ts\n",
      "afxres              jsonschema          signal              win32ui\n",
      "aifc                jupyter             site                win32uiole\n",
      "antigravity         jupyter_client      six                 win32verstamp\n",
      "argon2              jupyter_console     smtpd               win32wnet\n",
      "argparse            jupyter_core        smtplib             winerror\n",
      "array               jupyterlab_pygments sndhdr              winioctlcon\n",
      "ast                 jupyterlab_widgets  socket              winnt\n",
      "async_generator     keyword             socketserver        winperf\n",
      "asynchat            lib2to3             sqlite3             winpty\n",
      "asyncio             linecache           sre_compile         winreg\n",
      "asyncore            locale              sre_constants       winsound\n",
      "atexit              logging             sre_parse           winxpgui\n",
      "attr                lzma                ssl                 winxptheme\n",
      "audioop             macpath             sspi                wsgiref\n",
      "autoreload          macurl2path         sspicon             xdrlib\n",
      "backcall            mailbox             stat                xml\n",
      "base64              mailcap             statistics          xmlrpc\n",
      "bdb                 markupsafe          storemagic          xxsubtype\n",
      "binascii            marshal             string              zipapp\n",
      "binhex              math                stringprep          zipfile\n",
      "bisect              mimetypes           struct              zipimport\n",
      "bleach              mistune             subprocess          zipp\n",
      "builtins            mmap                sunau               zlib\n",
      "bz2                 mmapfile            symbol              zmq\n",
      "cProfile            mmsystem            sympyprinting       \n",
      "\n",
      "Enter any module name to get more help.  Or, type \"modules spam\" to search\n",
      "for modules whose name or summary contain the string \"spam\".\n",
      "\n"
     ]
    }
   ],
   "source": [
    "help()\n"
   ]
  },
  {
   "cell_type": "code",
   "execution_count": 11,
   "metadata": {},
   "outputs": [
    {
     "data": {
      "text/plain": [
       "['__call__',\n",
       " '__class__',\n",
       " '__delattr__',\n",
       " '__dir__',\n",
       " '__doc__',\n",
       " '__eq__',\n",
       " '__format__',\n",
       " '__func__',\n",
       " '__ge__',\n",
       " '__get__',\n",
       " '__getattribute__',\n",
       " '__gt__',\n",
       " '__hash__',\n",
       " '__init__',\n",
       " '__init_subclass__',\n",
       " '__le__',\n",
       " '__lt__',\n",
       " '__ne__',\n",
       " '__new__',\n",
       " '__reduce__',\n",
       " '__reduce_ex__',\n",
       " '__repr__',\n",
       " '__self__',\n",
       " '__setattr__',\n",
       " '__sizeof__',\n",
       " '__str__',\n",
       " '__subclasshook__']"
      ]
     },
     "execution_count": 11,
     "metadata": {},
     "output_type": "execute_result"
    }
   ],
   "source": [
    "from getpass import getpass\n",
    "dir(getpass)"
   ]
  },
  {
   "cell_type": "code",
   "execution_count": 12,
   "metadata": {},
   "outputs": [
    {
     "name": "stdout",
     "output_type": "stream",
     "text": [
      "enter username: kaveri\n",
      "enter password: ········\n",
      "welcome kaveri\n"
     ]
    }
   ],
   "source": [
    "from getpass import getpass\n",
    "username = input('enter username: ')\n",
    "password = getpass(\"enter password: \")\n",
    "if username ==\"kaveri\" and password == \"1213\":\n",
    "    print(\"welcome\",username)\n",
    "else:\n",
    "    print(\"invalid username or password\")"
   ]
  },
  {
   "cell_type": "markdown",
   "metadata": {},
   "source": [
    "# Flow control statements\n",
    "+ forloop\n",
    "### syntax\n",
    "for variable in range(inclusive,exclusive,step):\n",
    "    print(variable)\n",
    "+ whileloop"
   ]
  },
  {
   "cell_type": "markdown",
   "metadata": {},
   "source": [
    "# jumping statements\n",
    "+break\n",
    "\n",
    "*continue\n",
    "\n",
    "-pass"
   ]
  },
  {
   "cell_type": "code",
   "execution_count": 9,
   "metadata": {},
   "outputs": [
    {
     "name": "stdout",
     "output_type": "stream",
     "text": [
      "0--->1--->2--->3--->4--->5--->6--->7--->8--->9--->10--->11--->12--->13--->14--->15--->16--->17--->18--->19--->20--->21--->22--->23--->24--->25--->26--->27--->28--->29--->30--->31--->32--->33--->34--->35--->36--->37--->38--->39--->40--->41--->42--->43--->44--->45--->46--->47--->48--->49--->50--->51--->52--->53--->54--->55--->56--->57--->58--->59--->60--->61--->62--->63--->64--->65--->66--->67--->68--->69--->70--->71--->72--->73--->74--->75--->76--->77--->78--->79--->80--->81--->82--->83--->84--->85--->86--->87--->88--->89--->90--->91--->92--->93--->94--->95--->96--->97--->98--->99--->100--->1,2,3,4,5,6,7,8,9,10,11,12,13,14,15,16,17,18,19,20,21,22,23,24,25,26,27,28,29,30,31,32,33,34,35,36,37,38,39,40,41,42,43,44,45,46,47,48,49,50,50<---49<---48<---47<---46<---45<---44<---43<---42<---41<---40<---39<---38<---37<---36<---35<---34<---33<---32<---31<---30<---29<---28<---27<---26<---25<---24<---23<---22<---21<---20<---19<---18<---17<---16<---15<---14<---13<---12<---11<---10<---9<---8<---7<---6<---5<---4<---3<---2<---"
     ]
    }
   ],
   "source": [
    "''''''\n",
    "for i in range(101):\n",
    "     print(i,end=\"--->\")\n",
    "for j in range(1,50+1):\n",
    "    print(j,end=\",\")\n",
    "\n",
    "#reverse numbers\n",
    "for k in range(50,1,-1):\n",
    "    print(k,end=\"<---\")"
   ]
  },
  {
   "cell_type": "code",
   "execution_count": 13,
   "metadata": {},
   "outputs": [
    {
     "name": "stdout",
     "output_type": "stream",
     "text": [
      "0,2,4,6,8,10,12,14,16,18,20,22,24,26,28,30,32,34,36,38,40,42,44,46,48,50,52,54,56,58,60,62,64,66,68,70,72,74,76,78,80,82,84,86,88,90,92,94,96,98,100,"
     ]
    }
   ],
   "source": [
    "for l in range(0,101,2):\n",
    "         print(l,end=\",\")"
   ]
  },
  {
   "cell_type": "code",
   "execution_count": 1,
   "metadata": {},
   "outputs": [
    {
     "name": "stdout",
     "output_type": "stream",
     "text": [
      "15\n",
      "0123456789101112131415"
     ]
    }
   ],
   "source": [
    "n = int(input())\n",
    "for i in range(n+1):\n",
    "    print(i,end = \"\")"
   ]
  },
  {
   "cell_type": "code",
   "execution_count": 3,
   "metadata": {},
   "outputs": [
    {
     "name": "stdout",
     "output_type": "stream",
     "text": [
      "10\n",
      "55\n"
     ]
    }
   ],
   "source": [
    "n = int(input())\n",
    "s = 0\n",
    "for i in range(n+1):\n",
    "    s+=i#s = s+i\n",
    "    #print(i,end = \" \")\n",
    "print(s)"
   ]
  },
  {
   "cell_type": "code",
   "execution_count": 11,
   "metadata": {},
   "outputs": [
    {
     "name": "stdout",
     "output_type": "stream",
     "text": [
      "10\n",
      "0\n",
      "1\n",
      "2\n",
      "3\n",
      "4\n",
      "5\n",
      "6\n",
      "7\n",
      "8\n",
      "9\n"
     ]
    }
   ],
   "source": [
    "n = int(input())\n",
    "for i in range(10):\n",
    "    print(i)"
   ]
  },
  {
   "cell_type": "code",
   "execution_count": 14,
   "metadata": {},
   "outputs": [
    {
     "name": "stdout",
     "output_type": "stream",
     "text": [
      "10\n",
      "10\n",
      "8\n",
      "6\n",
      "4\n"
     ]
    }
   ],
   "source": [
    "n = int(input())\n",
    "for i in range(10,2,-2):\n",
    "    print(i)\n",
    "    "
   ]
  },
  {
   "cell_type": "code",
   "execution_count": 15,
   "metadata": {},
   "outputs": [
    {
     "name": "stdout",
     "output_type": "stream",
     "text": [
      "Enter factorial number: 5\n",
      "120\n"
     ]
    }
   ],
   "source": [
    "n = int(input(\"Enter factorial number: \"))\n",
    "s = 1\n",
    "for i in range(1,n+1):\n",
    "    s*= i#s = s+i\n",
    "    #print(i,end = \" \")\n",
    "print(s)"
   ]
  },
  {
   "cell_type": "code",
   "execution_count": 26,
   "metadata": {},
   "outputs": [
    {
     "name": "stdout",
     "output_type": "stream",
     "text": [
      "Enter table number: 16\n",
      "Enter table upto: 20\n",
      "16 * 1 = 16\n",
      "16 * 2 = 32\n",
      "16 * 3 = 48\n",
      "16 * 4 = 64\n",
      "16 * 5 = 80\n",
      "16 * 6 = 96\n",
      "16 * 7 = 112\n",
      "16 * 8 = 128\n",
      "16 * 9 = 144\n",
      "16 * 10 = 160\n",
      "16 * 11 = 176\n",
      "16 * 12 = 192\n",
      "16 * 13 = 208\n",
      "16 * 14 = 224\n",
      "16 * 15 = 240\n",
      "16 * 16 = 256\n",
      "16 * 17 = 272\n",
      "16 * 18 = 288\n",
      "16 * 19 = 304\n",
      "16 * 20 = 320\n"
     ]
    }
   ],
   "source": [
    "n = int(input(\"Enter table number: \"))\n",
    "a = int(input(\"Enter table upto: \"))\n",
    "for i in range(1,a+1):\n",
    "    print(\"{} * {} = {}\".format(n,i,n*i))\n"
   ]
  },
  {
   "cell_type": "code",
   "execution_count": 22,
   "metadata": {},
   "outputs": [
    {
     "name": "stdout",
     "output_type": "stream",
     "text": [
      "happy happy happy happy happy happy \n"
     ]
    }
   ],
   "source": [
    "print(\"happy \"*6)"
   ]
  },
  {
   "cell_type": "code",
   "execution_count": 20,
   "metadata": {},
   "outputs": [
    {
     "name": "stdout",
     "output_type": "stream",
     "text": [
      "new\n",
      "new\n",
      "new\n",
      "new\n",
      "new\n",
      "new\n",
      "new\n",
      "new\n",
      "new\n"
     ]
    }
   ],
   "source": [
    "for i in range(9):\n",
    "    print(\"new\")"
   ]
  },
  {
   "cell_type": "code",
   "execution_count": 34,
   "metadata": {},
   "outputs": [
    {
     "name": "stdout",
     "output_type": "stream",
     "text": [
      "multiplication table\n",
      "1 * 1 = 1\n",
      "1 * 2 = 2\n",
      "1 * 3 = 3\n",
      "1 * 4 = 4\n",
      "1 * 5 = 5\n",
      "1 * 6 = 6\n",
      "1 * 7 = 7\n",
      "1 * 8 = 8\n",
      "1 * 9 = 9\n",
      "========\n",
      "2 * 1 = 2\n",
      "2 * 2 = 4\n",
      "2 * 3 = 6\n",
      "2 * 4 = 8\n",
      "2 * 5 = 10\n",
      "2 * 6 = 12\n",
      "2 * 7 = 14\n",
      "2 * 8 = 16\n",
      "2 * 9 = 18\n",
      "========\n",
      "3 * 1 = 3\n",
      "3 * 2 = 6\n",
      "3 * 3 = 9\n",
      "3 * 4 = 12\n",
      "3 * 5 = 15\n",
      "3 * 6 = 18\n",
      "3 * 7 = 21\n",
      "3 * 8 = 24\n",
      "3 * 9 = 27\n",
      "========\n",
      "4 * 1 = 4\n",
      "4 * 2 = 8\n",
      "4 * 3 = 12\n",
      "4 * 4 = 16\n",
      "4 * 5 = 20\n",
      "4 * 6 = 24\n",
      "4 * 7 = 28\n",
      "4 * 8 = 32\n",
      "4 * 9 = 36\n",
      "========\n"
     ]
    }
   ],
   "source": [
    "print(\"multiplication table\")\n",
    "for i in range(1,5):\n",
    "     for j in range(1,10):\n",
    "        print(\"{} * {} = {}\".format(i,j,i*j))\n",
    "     print(\"========\")\n",
    "\n",
    "    \n"
   ]
  },
  {
   "cell_type": "code",
   "execution_count": 28,
   "metadata": {},
   "outputs": [
    {
     "name": "stdout",
     "output_type": "stream",
     "text": [
      "1\n",
      "2\n",
      "3\n",
      "4\n",
      "5\n",
      "6\n",
      "7\n",
      "8\n",
      "9\n"
     ]
    }
   ],
   "source": [
    "i = 1\n",
    "while i<10:\n",
    "    print(i)\n",
    "    i+=1\n",
    "    "
   ]
  },
  {
   "cell_type": "code",
   "execution_count": 1,
   "metadata": {},
   "outputs": [
    {
     "name": "stdout",
     "output_type": "stream",
     "text": [
      "10\n",
      "9\n",
      "8\n",
      "7\n",
      "6\n",
      "5\n",
      "4\n",
      "3\n",
      "2\n",
      "1\n"
     ]
    }
   ],
   "source": [
    "i = 10\n",
    "while i>=1:\n",
    "    print(i)\n",
    "    i-=1"
   ]
  },
  {
   "cell_type": "code",
   "execution_count": null,
   "metadata": {},
   "outputs": [],
   "source": [
    "i = 0\n",
    "while i<=10:\n",
    "     print(i)\n",
    "     i+=2"
   ]
  },
  {
   "cell_type": "code",
   "execution_count": null,
   "metadata": {},
   "outputs": [],
   "source": [
    "\n",
    "    5*6"
   ]
  },
  {
   "cell_type": "code",
   "execution_count": 1,
   "metadata": {},
   "outputs": [
    {
     "name": "stdout",
     "output_type": "stream",
     "text": [
      "Enter i value: 2\n",
      "2\n",
      "4\n",
      "6\n",
      "8\n"
     ]
    }
   ],
   "source": [
    "i = int(input(\"Enter i value: \"))\n",
    "while i<10:\n",
    "    if i%2 == 0:\n",
    "       print(i)\n",
    "    i+=1"
   ]
  },
  {
   "cell_type": "code",
   "execution_count": 20,
   "metadata": {},
   "outputs": [
    {
     "name": "stdout",
     "output_type": "stream",
     "text": [
      " Multiplication Table \n",
      "1  *  1  =  1\n",
      "1  *  2  =  2\n",
      "1  *  3  =  3\n",
      "1  *  4  =  4\n",
      "1  *  5  =  5\n",
      "1  *  6  =  6\n",
      "1  *  7  =  7\n",
      "1  *  8  =  8\n",
      "1  *  9  =  9\n",
      "1  *  10  =  10\n",
      "==============\n",
      "2  *  1  =  2\n",
      "2  *  2  =  4\n",
      "2  *  3  =  6\n",
      "2  *  4  =  8\n",
      "2  *  5  =  10\n",
      "2  *  6  =  12\n",
      "2  *  7  =  14\n",
      "2  *  8  =  16\n",
      "2  *  9  =  18\n",
      "2  *  10  =  20\n",
      "==============\n",
      "3  *  1  =  3\n",
      "3  *  2  =  6\n",
      "3  *  3  =  9\n",
      "3  *  4  =  12\n",
      "3  *  5  =  15\n",
      "3  *  6  =  18\n",
      "3  *  7  =  21\n",
      "3  *  8  =  24\n",
      "3  *  9  =  27\n",
      "3  *  10  =  30\n",
      "==============\n",
      "4  *  1  =  4\n",
      "4  *  2  =  8\n",
      "4  *  3  =  12\n",
      "4  *  4  =  16\n",
      "4  *  5  =  20\n",
      "4  *  6  =  24\n",
      "4  *  7  =  28\n",
      "4  *  8  =  32\n",
      "4  *  9  =  36\n",
      "4  *  10  =  40\n",
      "==============\n",
      "5  *  1  =  5\n",
      "5  *  2  =  10\n",
      "5  *  3  =  15\n",
      "5  *  4  =  20\n",
      "5  *  5  =  25\n",
      "5  *  6  =  30\n",
      "5  *  7  =  35\n",
      "5  *  8  =  40\n",
      "5  *  9  =  45\n",
      "5  *  10  =  50\n",
      "==============\n",
      "6  *  1  =  6\n",
      "6  *  2  =  12\n",
      "6  *  3  =  18\n",
      "6  *  4  =  24\n",
      "6  *  5  =  30\n",
      "6  *  6  =  36\n",
      "6  *  7  =  42\n",
      "6  *  8  =  48\n",
      "6  *  9  =  54\n",
      "6  *  10  =  60\n",
      "==============\n",
      "7  *  1  =  7\n",
      "7  *  2  =  14\n",
      "7  *  3  =  21\n",
      "7  *  4  =  28\n",
      "7  *  5  =  35\n",
      "7  *  6  =  42\n",
      "7  *  7  =  49\n",
      "7  *  8  =  56\n",
      "7  *  9  =  63\n",
      "7  *  10  =  70\n",
      "==============\n",
      "8  *  1  =  8\n",
      "8  *  2  =  16\n",
      "8  *  3  =  24\n",
      "8  *  4  =  32\n",
      "8  *  5  =  40\n",
      "8  *  6  =  48\n",
      "8  *  7  =  56\n",
      "8  *  8  =  64\n",
      "8  *  9  =  72\n",
      "8  *  10  =  80\n",
      "==============\n",
      "9  *  1  =  9\n",
      "9  *  2  =  18\n",
      "9  *  3  =  27\n",
      "9  *  4  =  36\n",
      "9  *  5  =  45\n",
      "9  *  6  =  54\n",
      "9  *  7  =  63\n",
      "9  *  8  =  72\n",
      "9  *  9  =  81\n",
      "9  *  10  =  90\n",
      "==============\n"
     ]
    }
   ],
   "source": [
    "print(\" Multiplication Table \")\n",
    "\n",
    "for i in range(1 ,10):\n",
    "    for j in range(1, 11):\n",
    "        print('{0}  *  {1}  =  {2}'.format(i, j, i*j))\n",
    "    print('==============')"
   ]
  },
  {
   "cell_type": "code",
   "execution_count": 21,
   "metadata": {},
   "outputs": [
    {
     "data": {
      "text/plain": [
       "'Tue Jan  5 11:32:13 2021'"
      ]
     },
     "execution_count": 21,
     "metadata": {},
     "output_type": "execute_result"
    }
   ],
   "source": [
    "import time\n",
    "time.ctime()"
   ]
  },
  {
   "cell_type": "code",
   "execution_count": 29,
   "metadata": {},
   "outputs": [
    {
     "name": "stdout",
     "output_type": "stream",
     "text": [
      "Tue Jan  5 11:40:03 2021\n",
      "Tue Jan  5 11:41:03 2021\n",
      "True\n"
     ]
    }
   ],
   "source": [
    "import webbrowser,time\n",
    "totalbreaks =2\n",
    "count=0\n",
    "while count<totalbreaks:\n",
    "    print(time.ctime())\n",
    "    time.sleep(60)\n",
    "    if count == 1:\n",
    "        print(webbrowser.open(\"www.facebook.com\"))\n",
    "    elif count == 2:\n",
    "        print(webbrowser.open(\"www.youtube.com\"))\n",
    "    count+=1"
   ]
  },
  {
   "cell_type": "code",
   "execution_count": 2,
   "metadata": {},
   "outputs": [
    {
     "name": "stdout",
     "output_type": "stream",
     "text": [
      "11\n",
      "12\n",
      "13\n",
      "14\n",
      "16\n",
      "17\n",
      "18\n",
      "19\n",
      "20\n"
     ]
    }
   ],
   "source": [
    "i =10\n",
    "while i<20:\n",
    "    i+=1\n",
    "    if i==15:\n",
    "        continue\n",
    "    print(i)\n",
    "        \n"
   ]
  },
  {
   "cell_type": "code",
   "execution_count": 3,
   "metadata": {},
   "outputs": [
    {
     "name": "stdout",
     "output_type": "stream",
     "text": [
      "hello\n"
     ]
    }
   ],
   "source": [
    "s = \"hello\"\n",
    "print(s)"
   ]
  },
  {
   "cell_type": "code",
   "execution_count": 14,
   "metadata": {},
   "outputs": [
    {
     "name": "stdout",
     "output_type": "stream",
     "text": [
      "h\n",
      "i\n",
      "i\n"
     ]
    }
   ],
   "source": [
    "s = \"hii\"\n",
    "for i in s:\n",
    "    print(i)"
   ]
  },
  {
   "cell_type": "code",
   "execution_count": 4,
   "metadata": {},
   "outputs": [
    {
     "name": "stdout",
     "output_type": "stream",
     "text": [
      "h\n",
      "p\n",
      "p\n",
      "y\n"
     ]
    }
   ],
   "source": [
    "s = \"happy\"\n",
    "for i in s:\n",
    "    if i == \"a\":\n",
    "        continue\n",
    "    print(i)"
   ]
  },
  {
   "cell_type": "code",
   "execution_count": null,
   "metadata": {},
   "outputs": [],
   "source": []
  }
 ],
 "metadata": {
  "kernelspec": {
   "display_name": "Python 3",
   "language": "python",
   "name": "python3"
  },
  "language_info": {
   "codemirror_mode": {
    "name": "ipython",
    "version": 3
   },
   "file_extension": ".py",
   "mimetype": "text/x-python",
   "name": "python",
   "nbconvert_exporter": "python",
   "pygments_lexer": "ipython3",
   "version": "3.6.5"
  }
 },
 "nbformat": 4,
 "nbformat_minor": 4
}
